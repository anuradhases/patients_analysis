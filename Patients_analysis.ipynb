{
 "cells": [
  {
   "cell_type": "markdown",
   "id": "c95408b4",
   "metadata": {},
   "source": [
    "# Patients Analysis"
   ]
  },
  {
   "cell_type": "markdown",
   "id": "1d4c3872",
   "metadata": {},
   "source": [
    "## 1. Understand Data"
   ]
  },
  {
   "cell_type": "markdown",
   "id": "784b8fce",
   "metadata": {},
   "source": [
    "- included in Readme.MD"
   ]
  },
  {
   "cell_type": "markdown",
   "id": "d2f2fb32",
   "metadata": {},
   "source": [
    "## 2. Acquire & Inspect the Data"
   ]
  },
  {
   "cell_type": "markdown",
   "id": "21053a13",
   "metadata": {},
   "source": [
    "Step 1: Import Relevant Modules"
   ]
  },
  {
   "cell_type": "code",
   "execution_count": 1,
   "id": "4458240b",
   "metadata": {},
   "outputs": [],
   "source": [
    "import pandas as pd\n",
    "pd.options.mode.chained_assignment = None \n",
    "import numpy as np\n",
    "from datetime import date\n",
    "from matplotlib import pyplot as plt"
   ]
  },
  {
   "cell_type": "markdown",
   "id": "715e433f",
   "metadata": {},
   "source": [
    "Step 2: Read data into script"
   ]
  },
  {
   "cell_type": "code",
   "execution_count": 2,
   "id": "4c5c498b",
   "metadata": {},
   "outputs": [],
   "source": [
    "\n",
    "pre_auth = pd.read_csv(\"/Users/anuroxstar/Documents/Projects/PatientsAnalysis/data/Pre-Auth-Table 1.csv\")\n",
    "\n",
    "#clean trailing space in column name\n",
    "pre_auth.rename(columns = lambda x: x.strip(), inplace = True)\n",
    "\n",
    "patients_with_appts = pd.read_csv(\"/Users/anuroxstar/Documents/Projects/PatientsAnalysis/data/Patients w Appts-Table 1.csv\")\n",
    "\n",
    "#clean trailing space in column name\n",
    "patients_with_appts.rename(columns=lambda x: x.strip(), inplace= True)"
   ]
  },
  {
   "cell_type": "markdown",
   "id": "a85ec7c1",
   "metadata": {},
   "source": [
    "Step 3: Inspect Data"
   ]
  },
  {
   "cell_type": "code",
   "execution_count": 3,
   "id": "360743d5",
   "metadata": {},
   "outputs": [
    {
     "name": "stdout",
     "output_type": "stream",
     "text": [
      "   PRE_AUTH_ID  PATIENT_ID  GENDER                   CREATED_AT      DOB  \\\n",
      "0        24875  10199347.0  Female  2023-04-08T07:00:36.424421Z   8/9/05   \n",
      "1        32425         NaN  Female  2023-06-21T07:00:29.699999Z  8/10/95   \n",
      "2        11002  10125628.0  Female  2022-12-06T07:00:29.669795Z  8/26/13   \n",
      "3        12974  10141820.0  Female  2023-01-10T07:00:24.369702Z  9/23/97   \n",
      "4        13650  10148106.0  Female  2023-01-19T07:00:23.555088Z   5/3/59   \n",
      "\n",
      "    COVERAGE_START_DATE  Unnamed: 6  \n",
      "0  2023-04-05T00:00:00Z         NaN  \n",
      "1  2023-06-14T00:00:00Z         NaN  \n",
      "2  2022-12-01T00:00:00Z         NaN  \n",
      "3  2023-01-05T00:00:00Z         NaN  \n",
      "4  2023-01-12T00:00:00Z         NaN  \n",
      "<class 'pandas.core.frame.DataFrame'>\n",
      "RangeIndex: 33238 entries, 0 to 33237\n",
      "Data columns (total 7 columns):\n",
      " #   Column               Non-Null Count  Dtype  \n",
      "---  ------               --------------  -----  \n",
      " 0   PRE_AUTH_ID          33238 non-null  int64  \n",
      " 1   PATIENT_ID           23319 non-null  float64\n",
      " 2   GENDER               33238 non-null  object \n",
      " 3   CREATED_AT           33238 non-null  object \n",
      " 4   DOB                  33238 non-null  object \n",
      " 5   COVERAGE_START_DATE  33238 non-null  object \n",
      " 6   Unnamed: 6           0 non-null      float64\n",
      "dtypes: float64(2), int64(1), object(4)\n",
      "memory usage: 1.8+ MB\n",
      "None\n",
      "(33238, 7)\n",
      "   PATIENT_ID FIRST_APPT_TIME_START FIRST_NONCANCELLED_APPT_TIME_START  \\\n",
      "0    10077778  2022-09-03T18:00:00Z               2022-08-18T17:00:00Z   \n",
      "1    10077781  2022-08-16T18:30:00Z               2022-08-16T18:30:00Z   \n",
      "2    10077786  2022-08-15T20:00:00Z               2022-08-15T20:00:00Z   \n",
      "3    10077794  2022-08-16T00:30:00Z               2022-08-16T00:30:00Z   \n",
      "4    10077804  2022-08-15T23:30:00Z               2022-08-15T23:30:00Z   \n",
      "\n",
      "     Source  Unnamed: 4  \n",
      "0  pre-auth         NaN  \n",
      "1  pre-auth         NaN  \n",
      "2  pre-auth         NaN  \n",
      "3         B         NaN  \n",
      "4  pre-auth         NaN  \n",
      "<class 'pandas.core.frame.DataFrame'>\n",
      "RangeIndex: 23111 entries, 0 to 23110\n",
      "Data columns (total 5 columns):\n",
      " #   Column                              Non-Null Count  Dtype  \n",
      "---  ------                              --------------  -----  \n",
      " 0   PATIENT_ID                          23111 non-null  int64  \n",
      " 1   FIRST_APPT_TIME_START               23111 non-null  object \n",
      " 2   FIRST_NONCANCELLED_APPT_TIME_START  23111 non-null  object \n",
      " 3   Source                              23071 non-null  object \n",
      " 4   Unnamed: 4                          0 non-null      float64\n",
      "dtypes: float64(1), int64(1), object(3)\n",
      "memory usage: 902.9+ KB\n",
      "None\n",
      "(23111, 5)\n"
     ]
    }
   ],
   "source": [
    "\n",
    "#Pre-Auth\n",
    "\n",
    "print(pre_auth.head())\n",
    "print(pre_auth.info())\n",
    "print(pre_auth.shape)\n",
    "\n",
    "\n",
    "#Patients With Appts\n",
    "\n",
    "print(patients_with_appts.head())\n",
    "print(patients_with_appts.info())\n",
    "print(patients_with_appts.shape)\n"
   ]
  },
  {
   "cell_type": "markdown",
   "id": "b255ce75",
   "metadata": {},
   "source": [
    "## 3. Data Cleaning"
   ]
  },
  {
   "cell_type": "markdown",
   "id": "13d2dff8",
   "metadata": {},
   "source": [
    "##  Pre Auth:\n",
    " Step 1: Reshape Data?\n",
    "- data is tidy (tabular format)"
   ]
  },
  {
   "cell_type": "markdown",
   "id": "e83b1ec3",
   "metadata": {},
   "source": [
    "Step 2: Remove duplicates"
   ]
  },
  {
   "cell_type": "code",
   "execution_count": 4,
   "id": "03cc0135",
   "metadata": {},
   "outputs": [],
   "source": [
    "pre_auth = pre_auth.drop_duplicates()"
   ]
  },
  {
   "cell_type": "markdown",
   "id": "b5448b96",
   "metadata": {},
   "source": [
    "Step 3: Remove irrelevant columns"
   ]
  },
  {
   "cell_type": "code",
   "execution_count": 5,
   "id": "7660edb1",
   "metadata": {},
   "outputs": [],
   "source": [
    "pre_auth.drop(\"Unnamed: 6\" ,axis =1, inplace = True)"
   ]
  },
  {
   "cell_type": "markdown",
   "id": "56b35450",
   "metadata": {},
   "source": [
    "Step 4: Missing Data?\n"
   ]
  },
  {
   "cell_type": "code",
   "execution_count": 6,
   "id": "9bde62e8",
   "metadata": {},
   "outputs": [
    {
     "name": "stdout",
     "output_type": "stream",
     "text": [
      "<bound method DataFrame.info of        PRE_AUTH_ID  PATIENT_ID  GENDER                   CREATED_AT       DOB  \\\n",
      "0            24875  10199347.0  Female  2023-04-08T07:00:36.424421Z    8/9/05   \n",
      "1            32425         NaN  Female  2023-06-21T07:00:29.699999Z   8/10/95   \n",
      "2            11002  10125628.0  Female  2022-12-06T07:00:29.669795Z   8/26/13   \n",
      "3            12974  10141820.0  Female  2023-01-10T07:00:24.369702Z   9/23/97   \n",
      "4            13650  10148106.0  Female  2023-01-19T07:00:23.555088Z    5/3/59   \n",
      "...            ...         ...     ...                          ...       ...   \n",
      "33233        32753         NaN    Male  2023-06-21T07:01:05.342721Z   3/26/02   \n",
      "33234        27534         NaN  Female  2023-05-03T14:45:23.752108Z   6/21/61   \n",
      "33235        12139         NaN  Female  2022-12-24T07:00:26.657712Z   9/20/12   \n",
      "33236         3114         NaN    Male   2022-09-09T07:00:25.90864Z  10/29/10   \n",
      "33237        12445         NaN  Female  2022-12-29T07:00:34.496878Z    2/3/88   \n",
      "\n",
      "        COVERAGE_START_DATE  \n",
      "0      2023-04-05T00:00:00Z  \n",
      "1      2023-06-14T00:00:00Z  \n",
      "2      2022-12-01T00:00:00Z  \n",
      "3      2023-01-05T00:00:00Z  \n",
      "4      2023-01-12T00:00:00Z  \n",
      "...                     ...  \n",
      "33233  2023-06-15T00:00:00Z  \n",
      "33234  2023-04-27T00:00:00Z  \n",
      "33235  2022-12-21T00:00:00Z  \n",
      "33236  2022-09-02T00:00:00Z  \n",
      "33237  2022-12-26T00:00:00Z  \n",
      "\n",
      "[33238 rows x 6 columns]>\n"
     ]
    }
   ],
   "source": [
    "print(pre_auth.info)"
   ]
  },
  {
   "cell_type": "markdown",
   "id": "68964338",
   "metadata": {},
   "source": [
    "Step 5: Clean up data types"
   ]
  },
  {
   "cell_type": "code",
   "execution_count": 7,
   "id": "8bdf7f95",
   "metadata": {},
   "outputs": [],
   "source": [
    "pre_auth['PRE_AUTH_ID'] = pre_auth['PRE_AUTH_ID'].astype('string')\n",
    "pre_auth['PRE_AUTH_ID'] = pre_auth['PRE_AUTH_ID'].replace(' ','')\n",
    "pre_auth['GENDER'] = pre_auth['GENDER'].astype('string')\n",
    "pre_auth['CREATED_AT'] = pd.to_datetime(pre_auth['CREATED_AT'])\n",
    "pre_auth['DOB'] = pd.to_datetime(pre_auth['DOB'])\n",
    "pre_auth['COVERAGE_START_DATE'] = pd.to_datetime(pre_auth['COVERAGE_START_DATE'])"
   ]
  },
  {
   "cell_type": "markdown",
   "id": "6fbf92fc",
   "metadata": {},
   "source": [
    "Separate into table with PATIENT_ID, and table without PATIENT_ID"
   ]
  },
  {
   "cell_type": "code",
   "execution_count": 8,
   "id": "b097c427",
   "metadata": {},
   "outputs": [],
   "source": [
    "#First Table are pre-auth patients that booked an appt\n",
    "pre_auth_book_appt = pre_auth[pre_auth['PATIENT_ID'].notna()]\n",
    "pre_auth_book_appt['PATIENT_ID'] = pre_auth_book_appt['PATIENT_ID'].apply(np.int64)\n",
    "pre_auth_book_appt['PATIENT_ID'] = pre_auth_book_appt['PATIENT_ID'].astype('string')\n",
    "pre_auth_book_appt['PATIENT_ID'] = pre_auth_book_appt['PATIENT_ID'].replace(' ','')\n",
    "\n",
    "\n",
    "#Second Table are pre-auth patients that did not book an appt\n",
    "pre_auth_didnt_book_appt = pre_auth[pre_auth['PATIENT_ID'].isna()]\n",
    "pre_auth_didnt_book_appt['PATIENT_ID'] = pre_auth_didnt_book_appt['PATIENT_ID'].astype('string')\n"
   ]
  },
  {
   "cell_type": "markdown",
   "id": "246fc199",
   "metadata": {},
   "source": [
    "Check accounted for all data in pre_auth dataset"
   ]
  },
  {
   "cell_type": "code",
   "execution_count": 9,
   "id": "97c211e0",
   "metadata": {},
   "outputs": [
    {
     "name": "stdout",
     "output_type": "stream",
     "text": [
      "True\n"
     ]
    }
   ],
   "source": [
    "pre_auth_tables_sum = pre_auth_book_appt.shape[0] + pre_auth_didnt_book_appt.shape[0]\n",
    "print(pre_auth_tables_sum == pre_auth.shape[0])"
   ]
  },
  {
   "cell_type": "markdown",
   "id": "06b38c4e",
   "metadata": {},
   "source": [
    "##  Patients with Appts\n",
    " Step 1: Reshape Data?\n",
    "- data is tidy (tabular format)"
   ]
  },
  {
   "cell_type": "markdown",
   "id": "d05a3309",
   "metadata": {},
   "source": [
    "Step 2: Remove duplicates"
   ]
  },
  {
   "cell_type": "code",
   "execution_count": 10,
   "id": "2b63af1b",
   "metadata": {},
   "outputs": [],
   "source": [
    "patients_with_appts = patients_with_appts.drop_duplicates()"
   ]
  },
  {
   "cell_type": "markdown",
   "id": "35ed0975",
   "metadata": {},
   "source": [
    "Step 3: Remove irrelevant columns"
   ]
  },
  {
   "cell_type": "code",
   "execution_count": 11,
   "id": "8ae440c6",
   "metadata": {},
   "outputs": [],
   "source": [
    "patients_with_appts.drop(\"Unnamed: 4\" ,axis =1, inplace = True)"
   ]
  },
  {
   "cell_type": "markdown",
   "id": "e2505dd7",
   "metadata": {},
   "source": [
    "Step 4: Missing Data?"
   ]
  },
  {
   "cell_type": "code",
   "execution_count": 12,
   "id": "338431c7",
   "metadata": {},
   "outputs": [
    {
     "name": "stdout",
     "output_type": "stream",
     "text": [
      "<class 'pandas.core.frame.DataFrame'>\n",
      "Int64Index: 23111 entries, 0 to 23110\n",
      "Data columns (total 4 columns):\n",
      " #   Column                              Non-Null Count  Dtype \n",
      "---  ------                              --------------  ----- \n",
      " 0   PATIENT_ID                          23111 non-null  int64 \n",
      " 1   FIRST_APPT_TIME_START               23111 non-null  object\n",
      " 2   FIRST_NONCANCELLED_APPT_TIME_START  23111 non-null  object\n",
      " 3   Source                              23071 non-null  object\n",
      "dtypes: int64(1), object(3)\n",
      "memory usage: 902.8+ KB\n",
      "None\n"
     ]
    }
   ],
   "source": [
    "print(patients_with_appts.info())"
   ]
  },
  {
   "cell_type": "markdown",
   "id": "20e10124",
   "metadata": {},
   "source": [
    "Step 5: Change Data Types"
   ]
  },
  {
   "cell_type": "code",
   "execution_count": 13,
   "id": "927be8db",
   "metadata": {},
   "outputs": [],
   "source": [
    "patients_with_appts['PATIENT_ID'] = patients_with_appts['PATIENT_ID'].astype('string')\n",
    "patients_with_appts['PATIENT_ID'] = patients_with_appts['PATIENT_ID'].replace(' ','')\n",
    "patients_with_appts['FIRST_APPT_TIME_START'] = patients_with_appts['FIRST_APPT_TIME_START'].replace('Z','')\n",
    "patients_with_appts['FIRST_NONCANCELLED_APPT_TIME_START'] = patients_with_appts['FIRST_NONCANCELLED_APPT_TIME_START'].replace('Z','')\n",
    "patients_with_appts['FIRST_APPT_TIME_START'] = pd.to_datetime(patients_with_appts['FIRST_APPT_TIME_START'])\n",
    "patients_with_appts['FIRST_NONCANCELLED_APPT_TIME_START'] = pd.to_datetime(patients_with_appts['FIRST_NONCANCELLED_APPT_TIME_START'], errors = 'coerce')\n"
   ]
  },
  {
   "cell_type": "code",
   "execution_count": 14,
   "id": "37e1f8d7",
   "metadata": {},
   "outputs": [
    {
     "name": "stdout",
     "output_type": "stream",
     "text": [
      "pre-auth    21830\n",
      "db           1240\n",
      "B               1\n",
      "Name: Source, dtype: int64\n"
     ]
    }
   ],
   "source": [
    "print(patients_with_appts['Source'].value_counts())\n",
    "# one row with Source as 'B'; assumed as 'db', will replace\n",
    "patients_with_appts['Source'] = patients_with_appts['Source'].replace('B','db')"
   ]
  },
  {
   "cell_type": "markdown",
   "id": "2a742fa2",
   "metadata": {},
   "source": [
    "# 4. Exploratory Data Analysis & Data Visualizations"
   ]
  },
  {
   "cell_type": "code",
   "execution_count": 15,
   "id": "65d3d19e",
   "metadata": {},
   "outputs": [],
   "source": [
    "patient_id_overlap = pre_auth_book_appt.merge(patients_with_appts, on = 'PATIENT_ID', how ='inner')"
   ]
  },
  {
   "cell_type": "code",
   "execution_count": 16,
   "id": "6fd9514a",
   "metadata": {},
   "outputs": [
    {
     "name": "stdout",
     "output_type": "stream",
     "text": [
      "(22496, 9)\n",
      "<class 'pandas.core.frame.DataFrame'>\n",
      "Int64Index: 22496 entries, 0 to 22495\n",
      "Data columns (total 9 columns):\n",
      " #   Column                              Non-Null Count  Dtype              \n",
      "---  ------                              --------------  -----              \n",
      " 0   PRE_AUTH_ID                         22496 non-null  string             \n",
      " 1   PATIENT_ID                          22496 non-null  string             \n",
      " 2   GENDER                              22496 non-null  string             \n",
      " 3   CREATED_AT                          22496 non-null  datetime64[ns, UTC]\n",
      " 4   DOB                                 22496 non-null  datetime64[ns]     \n",
      " 5   COVERAGE_START_DATE                 22496 non-null  datetime64[ns, UTC]\n",
      " 6   FIRST_APPT_TIME_START               22496 non-null  datetime64[ns, UTC]\n",
      " 7   FIRST_NONCANCELLED_APPT_TIME_START  20364 non-null  datetime64[ns, UTC]\n",
      " 8   Source                              22458 non-null  object             \n",
      "dtypes: datetime64[ns, UTC](4), datetime64[ns](1), object(1), string(3)\n",
      "memory usage: 1.7+ MB\n",
      "None\n",
      "pre-auth    21842\n",
      "db            616\n",
      "Name: Source, dtype: int64\n"
     ]
    }
   ],
   "source": [
    "#Check for missing data\n",
    "print(patient_id_overlap.shape)\n",
    "print(patient_id_overlap.info())\n",
    "print(patient_id_overlap['Source'].value_counts())\n",
    "\n",
    "patient_id_overlap['Source'] = patient_id_overlap['Source'].str.replace('db','pre-auth')\n",
    "\n",
    "#update patients_with_appts\n",
    "patients_with_appts['Source'].update(patient_id_overlap['Source'])\n",
    "\n"
   ]
  },
  {
   "cell_type": "code",
   "execution_count": 17,
   "id": "9cca4d83",
   "metadata": {},
   "outputs": [
    {
     "name": "stdout",
     "output_type": "stream",
     "text": [
      "PRE_AUTH_ID            12\n",
      "PATIENT_ID             12\n",
      "GENDER                 12\n",
      "CREATED_AT             12\n",
      "DOB                    12\n",
      "COVERAGE_START_DATE    12\n",
      "dtype: int64\n",
      "PRE_AUTH_ID            0\n",
      "PATIENT_ID             0\n",
      "GENDER                 0\n",
      "CREATED_AT             0\n",
      "DOB                    0\n",
      "COVERAGE_START_DATE    0\n",
      "dtype: int64\n",
      "      PRE_AUTH_ID PATIENT_ID  GENDER                       CREATED_AT  \\\n",
      "33149       14922   10100686    Male 2023-01-31 07:00:25.274071+00:00   \n",
      "13396        4820   10100686  Female 2022-10-08 07:00:25.344381+00:00   \n",
      "15817        5324   10101481  Female 2022-10-13 07:00:25.548282+00:00   \n",
      "2616         5326   10101481  Female 2022-10-13 07:00:25.568682+00:00   \n",
      "29567       20099   10103785  Female 2023-03-10 07:00:36.914151+00:00   \n",
      "903          4980   10103785  Female 2022-10-12 07:00:23.811470+00:00   \n",
      "12459        4181   10104632    Male 2022-09-30 07:00:24.475363+00:00   \n",
      "28478        5672   10104632  Female 2022-10-19 07:00:23.873117+00:00   \n",
      "12497        8813   10117028    Male 2022-11-16 07:00:24.906357+00:00   \n",
      "21594        8814   10117028    Male 2022-11-16 07:00:24.917807+00:00   \n",
      "12870       25637   10157643  Female 2023-04-14 21:29:50.289676+00:00   \n",
      "20089       15466   10157643  Female 2023-02-03 07:00:28.806441+00:00   \n",
      "8600        17536   10169876  Female 2023-02-22 07:00:30.686753+00:00   \n",
      "1140        13021   10169876    Male 2023-01-10 07:00:27.295084+00:00   \n",
      "32512       15473   10176926  Female 2023-02-03 07:00:29.269007+00:00   \n",
      "14622       24452   10176926    Male 2023-04-07 07:00:34.879382+00:00   \n",
      "32233       11462   10185097    Male 2022-12-14 07:00:26.480828+00:00   \n",
      "4069        21888   10185097  Female 2023-03-21 07:00:25.584033+00:00   \n",
      "19504       16340   10185149  Female 2023-02-11 07:00:28.397400+00:00   \n",
      "25434       17872   10185149  Female 2023-02-24 07:00:31.197246+00:00   \n",
      "6107        20262   10187869  Female 2023-03-10 07:00:44.393756+00:00   \n",
      "2523        21904   10187869    Male 2023-03-21 07:00:26.271795+00:00   \n",
      "8132        28734   10219024  Female 2023-05-12 07:00:41.125044+00:00   \n",
      "2173        25364   10219024  Female 2023-04-13 07:00:33.668053+00:00   \n",
      "\n",
      "             DOB       COVERAGE_START_DATE  \n",
      "33149 2013-01-09 2023-01-26 00:00:00+00:00  \n",
      "13396 1976-06-30 2022-10-04 00:00:00+00:00  \n",
      "15817 2012-01-13 2023-03-28 00:00:00+00:00  \n",
      "2616  2010-08-29 2022-10-10 00:00:00+00:00  \n",
      "29567 1982-11-04 2022-10-20 00:00:00+00:00  \n",
      "903   2010-04-13 2022-10-09 00:00:00+00:00  \n",
      "12459 2016-02-11 2022-09-27 00:00:00+00:00  \n",
      "28478 1973-03-05 2022-10-14 00:00:00+00:00  \n",
      "12497 2014-05-15 2022-11-11 00:00:00+00:00  \n",
      "21594 2012-04-05 2022-11-11 00:00:00+00:00  \n",
      "12870 1981-10-13 2023-03-07 00:00:00+00:00  \n",
      "20089 2014-07-24 2023-01-31 00:00:00+00:00  \n",
      "8600  1976-08-26 2023-05-06 00:00:00+00:00  \n",
      "1140  2017-01-23 2023-01-05 00:00:00+00:00  \n",
      "32512 2014-05-17 2023-01-31 00:00:00+00:00  \n",
      "14622 2014-05-17 2023-03-24 00:00:00+00:00  \n",
      "32233 1983-03-17 2022-12-07 00:00:00+00:00  \n",
      "4069  2015-03-11 2023-03-16 00:00:00+00:00  \n",
      "19504 2008-10-15 2023-02-08 00:00:00+00:00  \n",
      "25434 1977-09-11 2023-02-16 00:00:00+00:00  \n",
      "6107  1979-04-23 2023-03-06 00:00:00+00:00  \n",
      "2523  2014-04-21 2023-03-16 00:00:00+00:00  \n",
      "8132  1978-07-18 2023-04-25 00:00:00+00:00  \n",
      "2173  2014-09-04 2023-04-10 00:00:00+00:00  \n",
      "PATIENT_ID                            0\n",
      "FIRST_APPT_TIME_START                 0\n",
      "FIRST_NONCANCELLED_APPT_TIME_START    0\n",
      "Source                                0\n",
      "dtype: int64\n"
     ]
    }
   ],
   "source": [
    "#Check for duplicates:\n",
    "print(pre_auth_book_appt[pre_auth_book_appt.duplicated(['PATIENT_ID'])].count())\n",
    "print(pre_auth_book_appt[pre_auth_book_appt.duplicated(['PRE_AUTH_ID'])].count())\n",
    "#further investigation\n",
    "print(pre_auth_book_appt[pre_auth_book_appt['PATIENT_ID'].isin(\n",
    "pre_auth_book_appt['PATIENT_ID'][pre_auth_book_appt['PATIENT_ID'].duplicated()])].sort_values('PATIENT_ID'))\n",
    "\n",
    "#are there duplicate PATIENT_IDs in patients_with_appts?\n",
    "print(patients_with_appts[patients_with_appts.duplicated(['PATIENT_ID'])].count())"
   ]
  },
  {
   "cell_type": "code",
   "execution_count": 18,
   "id": "32667267",
   "metadata": {},
   "outputs": [],
   "source": [
    "# TABLES FOR ANALYSIS \n",
    "\n",
    "# TABLE 1: PRE-AUTH PTS with no APPTS\n",
    "\n",
    "# TABLE 2: PATIENT_ID_OVERLAP: PRE-AUTH PTS with APPTS overlap with\n",
    "# patients_with_appts dataset on PATIENT_ID\n",
    "\n",
    "# TABLE 3: PRE_AUTH PTS with APPTS no overlap\n",
    "cond = pre_auth_book_appt['PATIENT_ID'].isin(patient_id_overlap['PATIENT_ID'])\n",
    "pre_auth_book_appt.drop(pre_auth_book_appt[cond].index, inplace = True)\n",
    "\n",
    "# TABLE 4: PATIENTS WITH APPTS no overlap & Source == 'pre-auth'\n",
    "cond = patients_with_appts['PATIENT_ID'].isin(patient_id_overlap['PATIENT_ID'])\n",
    "patients_with_appts.drop(patients_with_appts[cond].index, inplace = True)\n",
    "pre_auth_patients_with_appts = patients_with_appts[patients_with_appts['Source']== 'pre-auth']\n",
    "\n",
    "# TABLE 5: PATIENTS WITH APPTS no overlap & Source == 'db'\n",
    "db_appts = patients_with_appts[patients_with_appts['Source'] == 'db']\n",
    "\n",
    "# TABLE 6: PATIENTS WITH APPTS no overlap & Source == null\n",
    "unknown_appts = patients_with_appts[patients_with_appts['Source'].isna()]\n"
   ]
  },
  {
   "cell_type": "code",
   "execution_count": 19,
   "id": "a53f9711",
   "metadata": {},
   "outputs": [
    {
     "name": "stdout",
     "output_type": "stream",
     "text": [
      " The pre-authorized patients distinct count is: 33784\n",
      " The direct booking patients distinct count is: 80\n",
      " The total patients distinct count is: 33865\n"
     ]
    }
   ],
   "source": [
    "#Pre-Auth Patients: Distinct Count\n",
    "pre_auth_pts_distinct = (patient_id_overlap['PRE_AUTH_ID'].nunique() + pre_auth_book_appt['PRE_AUTH_ID'].nunique()\n",
    "+ pre_auth_didnt_book_appt['PRE_AUTH_ID'].nunique() + pre_auth_patients_with_appts['PATIENT_ID'].nunique())\n",
    "\n",
    "print(\" The pre-authorized patients distinct count is: \" + str(pre_auth_pts_distinct))\n",
    "\n",
    "#Direct Booking Patients: Distinct Count\n",
    "directbooking_pts_distinct = db_appts['PATIENT_ID'].nunique()\n",
    "print(\" The direct booking patients distinct count is: \" + str(directbooking_pts_distinct))\n",
    "\n",
    "#Total Number of Patients (including those that didnt book)\n",
    "total_pts = (pre_auth_pts_distinct + directbooking_pts_distinct + unknown_appts['PATIENT_ID'].nunique())\n",
    "print(\" The total patients distinct count is: \" + str(total_pts))"
   ]
  },
  {
   "cell_type": "markdown",
   "id": "92a5f75f",
   "metadata": {},
   "source": [
    "## Pre Auth patients\n",
    "What is the % of patients that have their first_appt_time_start within 1 week (<= 7 days) of their coverage_start_date?"
   ]
  },
  {
   "cell_type": "code",
   "execution_count": 20,
   "id": "f20ff493",
   "metadata": {},
   "outputs": [
    {
     "name": "stdout",
     "output_type": "stream",
     "text": [
      "0.0\n",
      "0.0\n",
      "Index(['PRE_AUTH_ID', 'PATIENT_ID', 'GENDER', 'CREATED_AT', 'DOB',\n",
      "       'COVERAGE_START_DATE', 'FIRST_APPT_TIME_START',\n",
      "       'FIRST_NONCANCELLED_APPT_TIME_START', 'Source'],\n",
      "      dtype='object')\n",
      "12% of pre-authorized patients book their appointment within the first week.\n"
     ]
    }
   ],
   "source": [
    "#check for missing data\n",
    "print(len(patient_id_overlap[patient_id_overlap['COVERAGE_START_DATE'].isna()])/len(patient_id_overlap))\n",
    "print(len(patient_id_overlap[patient_id_overlap['FIRST_APPT_TIME_START'].isna()])/len(patient_id_overlap))\n",
    "\n",
    "\n",
    "print(patient_id_overlap.columns)\n",
    "patient_id_overlap['time_to_book_appts'] = (patient_id_overlap['FIRST_APPT_TIME_START']\n",
    "                                - patient_id_overlap['COVERAGE_START_DATE'])\n",
    "patient_id_overlap['time_to_book_appts'] = patient_id_overlap['time_to_book_appts'].astype('string')\n",
    "patient_id_overlap['time_to_book_appts'] = patient_id_overlap['time_to_book_appts'].replace(' ','')\n",
    "patient_id_overlap[['time_to_book_days','time_to_book_time']] = patient_id_overlap['time_to_book_appts'].str.split('days', expand = True)\n",
    "patient_id_overlap['time_to_book_days'] = patient_id_overlap['time_to_book_days'].astype(int)\n",
    "\n",
    "book_appts_numerator = len(patient_id_overlap[(patient_id_overlap['time_to_book_days'] <= 7) & (patient_id_overlap['time_to_book_days'] >= 0)])\n",
    "book_appts_denominator = len(patient_id_overlap[patient_id_overlap['time_to_book_days']>=0])\n",
    "\n",
    "percent_book_appts = round(book_appts_numerator / book_appts_denominator * 100)\n",
    "print(str(percent_book_appts) +\"% of pre-authorized patients book their appointment within the first week.\")"
   ]
  },
  {
   "cell_type": "markdown",
   "id": "0a0d9b59",
   "metadata": {},
   "source": [
    "b) What percent of patients end up rescheduling their first appointment?"
   ]
  },
  {
   "cell_type": "code",
   "execution_count": 21,
   "id": "5cd9a94c",
   "metadata": {},
   "outputs": [
    {
     "name": "stdout",
     "output_type": "stream",
     "text": [
      "10\n",
      "15% of pre-authorized patients reschedule their appointment.\n",
      "The average days for rescheduling for pre-authorized patients are 17 day(s).\n"
     ]
    }
   ],
   "source": [
    "pre_auth_appts = pd.concat([patient_id_overlap, pre_auth_patients_with_appts])\n",
    "\n",
    "# check for missing data\n",
    "print(round(len(pre_auth_appts[pre_auth_appts['FIRST_NONCANCELLED_APPT_TIME_START'].isna()])/len(pre_auth_appts)*100))\n",
    "\n",
    "pre_auth_appts = pre_auth_appts.dropna(axis=0, subset=['FIRST_NONCANCELLED_APPT_TIME_START'])\n",
    "pre_auth_rescheduled = pre_auth_appts.query('FIRST_APPT_TIME_START < FIRST_NONCANCELLED_APPT_TIME_START')\n",
    "\n",
    "pre_auth_resched_numerator = len(pre_auth_rescheduled)\n",
    "pre_auth_resched_denominator = len(pre_auth_appts)\n",
    "\n",
    "percent_pre_auth_rescheduled = round(pre_auth_resched_numerator/pre_auth_resched_denominator *100)\n",
    "print(str(percent_pre_auth_rescheduled) +\"% of pre-authorized patients reschedule their appointment.\")\n",
    "pre_auth_rescheduled['time_to_resched'] = pre_auth_rescheduled['FIRST_NONCANCELLED_APPT_TIME_START'] - pre_auth_rescheduled['FIRST_APPT_TIME_START']\n",
    "pre_auth_rescheduled['time_to_resched'] = pre_auth_rescheduled['time_to_resched'].astype(str).str.replace(' ','')\n",
    "pre_auth_rescheduled[['time_to_resched_days','time_to_resched_time']] = pre_auth_rescheduled['time_to_resched'].str.split('days', expand = True)\n",
    "pre_auth_rescheduled['time_to_resched_days'] = pre_auth_rescheduled['time_to_resched_days'].astype(int)\n",
    "avg_days_resched_pre_auth = pre_auth_rescheduled['time_to_resched_days'].mean()\n",
    "print(\"The average days for rescheduling for pre-authorized patients are \" + str(round(avg_days_resched_pre_auth)) +\" day(s).\")\n"
   ]
  },
  {
   "cell_type": "markdown",
   "id": "ea0d46a6",
   "metadata": {},
   "source": [
    "## Direct Booking patients\n",
    "What percent of patients end up rescheduling their first appointment?"
   ]
  },
  {
   "cell_type": "code",
   "execution_count": 22,
   "id": "2e2fea66",
   "metadata": {},
   "outputs": [
    {
     "name": "stdout",
     "output_type": "stream",
     "text": [
      "4\n",
      "1% of direct booking patients reschedule their appointment.\n",
      "The average days for rescheduling for direct booking patients are 1 day(s).\n"
     ]
    }
   ],
   "source": [
    "\n",
    "# check for missing data\n",
    "print(round(len(db_appts[db_appts['FIRST_NONCANCELLED_APPT_TIME_START'].isna()])/len(db_appts)*100))\n",
    "\n",
    "db_appts.dropna(axis= 0, subset=['FIRST_NONCANCELLED_APPT_TIME_START'])\n",
    "db_rescheduled = db_appts.query('FIRST_APPT_TIME_START < FIRST_NONCANCELLED_APPT_TIME_START')\n",
    "\n",
    "db_resched_numerator = len(db_rescheduled)\n",
    "db_resched_denominator = len(db_appts)\n",
    "percent_db_rescheduled = round(db_resched_numerator/db_resched_denominator * 100)\n",
    "print(str(percent_db_rescheduled) +\"% of direct booking patients reschedule their appointment.\")\n",
    "db_rescheduled['time_to_resched'] = db_rescheduled['FIRST_NONCANCELLED_APPT_TIME_START'] - db_rescheduled['FIRST_APPT_TIME_START']\n",
    "db_rescheduled['time_to_resched'] = db_rescheduled['time_to_resched'].astype(str).str.replace(' ','')\n",
    "db_rescheduled[['time_to_resched_days','time_to_resched_time']] = db_rescheduled['time_to_resched'].str.split('days', expand = True)\n",
    "db_rescheduled['time_to_resched_days'] = db_rescheduled['time_to_resched_days'].astype(int)\n",
    "avg_days_resched_db = db_rescheduled['time_to_resched_days'].mean()\n",
    "print(\"The average days for rescheduling for direct booking patients are \" + str(round(avg_days_resched_db)) +\" day(s).\")\n"
   ]
  },
  {
   "cell_type": "markdown",
   "id": "35b031f7",
   "metadata": {},
   "source": [
    "What is the gender % of pre-authorized patients?"
   ]
  },
  {
   "cell_type": "code",
   "execution_count": 23,
   "id": "abedec2f",
   "metadata": {},
   "outputs": [
    {
     "name": "stdout",
     "output_type": "stream",
     "text": [
      "Female    21987\n",
      "Male      10167\n",
      "0          1084\n",
      "Name: GENDER, dtype: Int64\n",
      "3\n",
      "68 % of pre-authorized patients are female.\n",
      "32 % of pre-authorized patients are male.\n"
     ]
    }
   ],
   "source": [
    "print(pre_auth['GENDER'].value_counts())\n",
    "print(round(1084/len(pre_auth['GENDER'])*100))\n",
    "\n",
    "pre_auth_female = pre_auth[pre_auth['GENDER']== 'Female']\n",
    "pre_auth_male = pre_auth[pre_auth['GENDER']== 'Male']\n",
    "percent_pre_auth_f = round(len(pre_auth_female)/(len(pre_auth_female)+len(pre_auth_male)) * 100)\n",
    "percent_pre_auth_m = round(len(pre_auth_male)/(len(pre_auth_female)+len(pre_auth_male)) * 100)\n",
    "print(str(percent_pre_auth_f)+ \" % of pre-authorized patients are female.\")\n",
    "print(str(percent_pre_auth_m)+ \" % of pre-authorized patients are male.\")\n"
   ]
  },
  {
   "cell_type": "markdown",
   "id": "cc790288",
   "metadata": {},
   "source": [
    "What % of pre-auth females and pre-auth males who book appts?"
   ]
  },
  {
   "cell_type": "code",
   "execution_count": 24,
   "id": "1808e49b",
   "metadata": {},
   "outputs": [
    {
     "name": "stdout",
     "output_type": "stream",
     "text": [
      "73 % of pre-authorized female patients book appointments.\n",
      "67 % of pre-authorized male patients book appointments.\n"
     ]
    },
    {
     "data": {
      "image/png": "[encoded data removed]",
      "text/plain": [
       "<Figure size 640x480 with 1 Axes>"
      ]
     },
     "metadata": {},
     "output_type": "display_data"
    }
   ],
   "source": [
    "percent_pre_auth_f_book = round(len(pre_auth_female[pre_auth_female['PATIENT_ID'].notna()])\n",
    "                                /len(pre_auth_female)*100)      \n",
    "percent_pre_auth_m_book = round(len(pre_auth_male[pre_auth_male['PATIENT_ID'].notna()])\n",
    "                                /len(pre_auth_male)*100)\n",
    "print(str(percent_pre_auth_f_book)+ \" % of pre-authorized female patients book appointments.\")\n",
    "print(str(percent_pre_auth_m_book)+ \" % of pre-authorized male patients book appointments.\")\n",
    "\n",
    "#Pie Chart for Pre-Auth Gender Distribution\n",
    "plt.pie([percent_pre_auth_f, percent_pre_auth_m],labels =['Female', 'Male'], autopct = '%0.1f%%')\n",
    "plt.title('Pre-Authorized Patients Gender Distribution')\n",
    "plt.savefig('Pre_Auth_gender_dist.jpg')\n",
    "plt.show()\n",
    "plt.close()\n"
   ]
  },
  {
   "cell_type": "markdown",
   "id": "74af4bfd",
   "metadata": {},
   "source": [
    "What is the age distribution of pre-authorized female and pre-authorized male patients?"
   ]
  },
  {
   "cell_type": "code",
   "execution_count": 25,
   "id": "86f4f9bd",
   "metadata": {},
   "outputs": [
    {
     "name": "stdout",
     "output_type": "stream",
     "text": [
      "0       2005-08-09\n",
      "1       1995-08-10\n",
      "2       2013-08-26\n",
      "3       1997-09-23\n",
      "4       2059-05-03\n",
      "           ...    \n",
      "33230   2007-08-28\n",
      "33232   1995-06-30\n",
      "33234   2061-06-21\n",
      "33235   2012-09-20\n",
      "33237   1988-02-03\n",
      "Name: DOB, Length: 21987, dtype: datetime64[ns]\n",
      "0          18  03:29:05.753424657\n",
      "1          28  03:36:59.178082191\n",
      "2          10  02:14:08.219178082\n",
      "3          26  00:39:27.123287671\n",
      "4        -36  +09:04:26.301369864\n",
      "                   ...           \n",
      "33230      16  02:14:08.219178082\n",
      "33232      28  06:18:44.383561643\n",
      "33234    -38  +05:47:10.684931507\n",
      "33235      11  00:35:30.410958904\n",
      "33237      35  16:06:34.520547945\n",
      "Name: Age, Length: 21987, dtype: object\n",
      "0         18\n",
      "1         28\n",
      "2         10\n",
      "3         26\n",
      "4        -36\n",
      "        ... \n",
      "33230     16\n",
      "33232     28\n",
      "33234    -38\n",
      "33235     11\n",
      "33237     35\n",
      "Name: Age (yrs), Length: 21987, dtype: object\n",
      "(3, 14]     26.0\n",
      "(30, 40]    23.0\n",
      "(21, 30]    23.0\n",
      "(14, 21]    14.0\n",
      "(40, 50]    13.0\n",
      "Name: Age (yrs), dtype: float64\n"
     ]
    },
    {
     "data": {
      "image/png": "[encoded data removed]",
      "text/plain": [
       "<Figure size 640x480 with 1 Axes>"
      ]
     },
     "metadata": {},
     "output_type": "display_data"
    }
   ],
   "source": [
    "# Pre-Auth Females\n",
    "print(pre_auth_female['DOB'])\n",
    "today = pd.to_datetime('today').date()\n",
    "today = pd.to_datetime(today)\n",
    "pre_auth_female['Age'] = ((today - (pre_auth_female['DOB'][pre_auth_female['DOB'].notna()]))/365)\n",
    "pre_auth_female['Age'] = pre_auth_female['Age'].astype(str)\n",
    "pre_auth_female['Age'] = pre_auth_female['Age'].str.replace('days' ,'')\n",
    "print(pre_auth_female['Age'])\n",
    "pre_auth_female[['Age (yrs)','time(ignore)']] = pre_auth_female['Age'].str.split('  ', expand = True)\n",
    "print(pre_auth_female['Age (yrs)'])\n",
    "pre_auth_female['Age (yrs)'] = pre_auth_female['Age (yrs)'].astype(int)\n",
    "pre_auth_female = pre_auth_female[pre_auth_female['Age (yrs)'] >= 3]\n",
    "pre_auth_female_age_dist = round((pd.cut(pre_auth_female['Age (yrs)'],[3,14,21,30,40,50]).value_counts())/ len(pre_auth_female) * 100)\n",
    "print (pre_auth_female_age_dist)\n",
    "ax = pre_auth_female_age_dist.plot.bar()\n",
    "plt.title('Pre-Authorized Female Patients Age Distribution')\n",
    "plt.xlabel('Age Range')\n",
    "plt.xticks(rotation = 30)\n",
    "plt.ylabel('%')\n",
    "fig=ax.get_figure()\n",
    "fig.savefig('Pre_Auth_Female_Age_Dist.jpg')\n",
    "plt.show()\n",
    "plt.close()"
   ]
  },
  {
   "cell_type": "code",
   "execution_count": 26,
   "id": "493a03b8",
   "metadata": {},
   "outputs": [
    {
     "name": "stdout",
     "output_type": "stream",
     "text": [
      "15      2006-09-06\n",
      "16      1974-04-21\n",
      "17      1976-11-07\n",
      "21      2008-08-09\n",
      "23      2009-10-08\n",
      "           ...    \n",
      "33228   1992-09-25\n",
      "33229   2000-03-18\n",
      "33231   1997-11-19\n",
      "33233   2002-03-26\n",
      "33236   2010-10-29\n",
      "Name: DOB, Length: 10167, dtype: datetime64[ns]\n",
      "15       17  01:38:37.808219178\n",
      "16       49  11:14:37.808219178\n",
      "17       46  22:01:38.630136986\n",
      "21       15  03:25:09.041095890\n",
      "23       13  23:28:26.301369863\n",
      "                  ...          \n",
      "33228    31  00:35:30.410958904\n",
      "33229    23  13:01:09.041095890\n",
      "33231    25  20:54:34.520547945\n",
      "33233    21  12:29:35.342465753\n",
      "33236    12  22:05:35.342465753\n",
      "Name: Age, Length: 10167, dtype: object\n",
      "15       17\n",
      "16       49\n",
      "17       46\n",
      "21       15\n",
      "23       13\n",
      "         ..\n",
      "33228    31\n",
      "33229    23\n",
      "33231    25\n",
      "33233    21\n",
      "33236    12\n",
      "Name: Age (yrs), Length: 10167, dtype: object\n",
      "(3, 14]     38.0\n",
      "(30, 40]    20.0\n",
      "(21, 30]    18.0\n",
      "(40, 50]    12.0\n",
      "(14, 21]    12.0\n",
      "Name: Age (yrs), dtype: float64\n"
     ]
    },
    {
     "data": {
      "image/png": "[encoded data removed]",
      "text/plain": [
       "<Figure size 640x480 with 1 Axes>"
      ]
     },
     "metadata": {},
     "output_type": "display_data"
    }
   ],
   "source": [
    "# Pre-Auth Males\n",
    "print(pre_auth_male['DOB'])\n",
    "today = pd.to_datetime('today').date()\n",
    "today = pd.to_datetime(today)\n",
    "pre_auth_male['Age'] = ((today - pre_auth_male['DOB'])/365)\n",
    "pre_auth_male['Age'] = pre_auth_male['Age'].astype(str)\n",
    "pre_auth_male['Age'] = pre_auth_male['Age'].str.replace('days' ,'')\n",
    "print(pre_auth_male['Age'])\n",
    "pre_auth_male[['Age (yrs)','time(ignore)']] = pre_auth_male['Age'].str.split('  ', expand = True)\n",
    "print(pre_auth_male['Age (yrs)'])\n",
    "pre_auth_male['Age (yrs)'] = pre_auth_male['Age (yrs)'].astype(int)\n",
    "pre_auth_male = pre_auth_male[pre_auth_male['Age (yrs)'] >= 3]\n",
    "\n",
    "pre_auth_male_age_dist = round((pd.cut(pre_auth_male['Age (yrs)'],[3,14,21,30,40,50]).value_counts())/ len(pre_auth_male) * 100)\n",
    "print(pre_auth_male_age_dist)\n",
    "ax = pre_auth_male_age_dist.plot.bar(color ='orange')\n",
    "plt.title('Pre-Authorized Male Patients Age Distribution')\n",
    "plt.xlabel('Age Range')\n",
    "plt.xticks(rotation = 30)\n",
    "plt.ylabel('%')\n",
    "fig=ax.get_figure()\n",
    "fig.savefig('Pre_Auth_Male_Age_Dist.jpg')\n",
    "plt.show()"
   ]
  }
 ],
 "metadata": {
  "kernelspec": {
   "display_name": "Python 3 (ipykernel)",
   "language": "python",
   "name": "python3"
  },
  "language_info": {
   "codemirror_mode": {
    "name": "ipython",
    "version": 3
   },
   "file_extension": ".py",
   "mimetype": "text/x-python",
   "name": "python",
   "nbconvert_exporter": "python",
   "pygments_lexer": "ipython3",
   "version": "3.9.13"
  }
 },
 "nbformat": 4,
 "nbformat_minor": 5
}
